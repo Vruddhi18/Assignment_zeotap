# Task 1: Exploratory Data Analysis
import pandas as pd
import seaborn as sns
import matplotlib.pyplot as plt

# Load the datasets
customers = pd.read_csv("https://drive.google.com/uc?id=1bu_--mo79VdUG9oin4ybfFGRUSXAe-WE")
products = pd.read_csv("https://drive.google.com/uc?id=1IKuDizVapw-hyktwfpoAoaGtHtTNHfd0")
transactions = pd.read_csv("https://drive.google.com/uc?id=1saEqdbBB-vuk2hxoAf4TzDEsykdKlzbF")

# EDA on Customers
print("Customers Dataset Info:")
print(customers.info())

# Distribution of Regions
sns.countplot(data=customers, x="Region", palette="viridis")
plt.title("Customer Distribution by Region")
plt.show()

# EDA on Products
print("\nProducts Dataset Info:")
print(products.info())

# Distribution of Categories
sns.countplot(data=products, x="Category", palette="coolwarm")
plt.title("Product Distribution by Category")
plt.xticks(rotation=45)
plt.show()

# EDA on Transactions
print("\nTransactions Dataset Info:")
print(transactions.info())

# Transaction Value Distribution
sns.histplot(transactions['TotalValue'], bins=20, kde=True, color='blue')
plt.title("Transaction Value Distribution")
plt.show()
