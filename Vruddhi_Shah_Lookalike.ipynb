{
  "nbformat": 4,
  "nbformat_minor": 0,
  "metadata": {
    "colab": {
      "provenance": []
    },
    "kernelspec": {
      "name": "python3",
      "display_name": "Python 3"
    },
    "language_info": {
      "name": "python"
    }
  },
  "cells": [
    {
      "cell_type": "code",
      "execution_count": 16,
      "metadata": {
        "collapsed": true,
        "id": "rmo4sO5XxA5x"
      },
      "outputs": [],
      "source": [
        "import pandas as pd\n",
        "import matplotlib.pyplot as plt\n",
        "import seaborn as sns"
      ]
    },
    {
      "cell_type": "markdown",
      "source": [
        "# Load datasets"
      ],
      "metadata": {
        "id": "Tc77-YtfzvDN"
      }
    },
    {
      "cell_type": "code",
      "source": [
        "customers = pd.read_csv(\"Customers.csv\")\n",
        "products = pd.read_csv(\"Products.csv\")\n",
        "transactions = pd.read_csv(\"Transactions.csv\")"
      ],
      "metadata": {
        "id": "GkqzdWIyzlVx"
      },
      "execution_count": 17,
      "outputs": []
    },
    {
      "cell_type": "markdown",
      "source": [
        "# Quick overview of data"
      ],
      "metadata": {
        "id": "udNbzp1HzxUv"
      }
    },
    {
      "cell_type": "code",
      "source": [
        "print(customers.head(), products.head(), transactions.head())"
      ],
      "metadata": {
        "colab": {
          "base_uri": "https://localhost:8080/"
        },
        "id": "UhiOsC0Zz1-8",
        "outputId": "1073ec8d-5b8c-4aa2-a9ec-bd39eeb0588e"
      },
      "execution_count": 18,
      "outputs": [
        {
          "output_type": "stream",
          "name": "stdout",
          "text": [
            "  CustomerID        CustomerName         Region  SignupDate\n",
            "0      C0001    Lawrence Carroll  South America  2022-07-10\n",
            "1      C0002      Elizabeth Lutz           Asia  2022-02-13\n",
            "2      C0003      Michael Rivera  South America  2024-03-07\n",
            "3      C0004  Kathleen Rodriguez  South America  2022-10-09\n",
            "4      C0005         Laura Weber           Asia  2022-08-15   ProductID              ProductName     Category   Price\n",
            "0      P001     ActiveWear Biography        Books  169.30\n",
            "1      P002    ActiveWear Smartwatch  Electronics  346.30\n",
            "2      P003  ComfortLiving Biography        Books   44.12\n",
            "3      P004            BookWorld Rug   Home Decor   95.69\n",
            "4      P005          TechPro T-Shirt     Clothing  429.31   TransactionID CustomerID ProductID      TransactionDate  Quantity  \\\n",
            "0        T00001      C0199      P067  2024-08-25 12:38:23         1   \n",
            "1        T00112      C0146      P067  2024-05-27 22:23:54         1   \n",
            "2        T00166      C0127      P067   2024-04-25 7:38:55         1   \n",
            "3        T00272      C0087      P067  2024-03-26 22:55:37         2   \n",
            "4        T00363      C0070      P067  2024-03-21 15:10:10         3   \n",
            "\n",
            "   TotalValue   Price  \n",
            "0      300.68  300.68  \n",
            "1      300.68  300.68  \n",
            "2      300.68  300.68  \n",
            "3      601.36  300.68  \n",
            "4      902.04  300.68  \n"
          ]
        }
      ]
    },
    {
      "cell_type": "markdown",
      "source": [
        "# Check missing values"
      ],
      "metadata": {
        "id": "kR_T189yz5U4"
      }
    },
    {
      "cell_type": "code",
      "source": [
        "print(customers.isnull().sum(), products.isnull().sum(), transactions.isnull().sum())"
      ],
      "metadata": {
        "colab": {
          "base_uri": "https://localhost:8080/"
        },
        "id": "gEICFBDTz94W",
        "outputId": "cac66298-92c8-4e04-a869-cda617b10a62"
      },
      "execution_count": 19,
      "outputs": [
        {
          "output_type": "stream",
          "name": "stdout",
          "text": [
            "CustomerID      0\n",
            "CustomerName    0\n",
            "Region          0\n",
            "SignupDate      0\n",
            "dtype: int64 ProductID      0\n",
            "ProductName    0\n",
            "Category       0\n",
            "Price          0\n",
            "dtype: int64 TransactionID      0\n",
            "CustomerID         0\n",
            "ProductID          0\n",
            "TransactionDate    0\n",
            "Quantity           0\n",
            "TotalValue         0\n",
            "Price              0\n",
            "dtype: int64\n"
          ]
        }
      ]
    },
    {
      "cell_type": "markdown",
      "source": [
        "# Convert date columns to datetime format\n"
      ],
      "metadata": {
        "id": "JBb56XOXz8gn"
      }
    },
    {
      "cell_type": "code",
      "source": [
        "customers[\"SignupDate\"] = pd.to_datetime(customers[\"SignupDate\"])\n",
        "transactions[\"TransactionDate\"] = pd.to_datetime(transactions[\"TransactionDate\"])"
      ],
      "metadata": {
        "id": "bGsrWkIV0DWS"
      },
      "execution_count": 20,
      "outputs": []
    },
    {
      "cell_type": "markdown",
      "source": [
        "# Merge datasets\n"
      ],
      "metadata": {
        "id": "VKuE5VX10MLT"
      }
    },
    {
      "cell_type": "code",
      "source": [
        "merged_df = transactions.merge(customers, on=\"CustomerID\").merge(products, on=\"ProductID\")"
      ],
      "metadata": {
        "id": "0qQi3h_W0J2T"
      },
      "execution_count": 21,
      "outputs": []
    },
    {
      "cell_type": "code",
      "source": [
        "from sklearn.metrics.pairwise import cosine_similarity\n",
        "import numpy as np"
      ],
      "metadata": {
        "id": "-I2cDlqS1oFh"
      },
      "execution_count": 22,
      "outputs": []
    },
    {
      "cell_type": "markdown",
      "source": [
        "# Prepare customer-product matrix\n"
      ],
      "metadata": {
        "id": "qjzOSBT51s8x"
      }
    },
    {
      "cell_type": "code",
      "source": [
        "customer_product_matrix = merged_df.pivot_table(index=\"CustomerID\", columns=\"ProductID\", values=\"Quantity\", fill_value=0)"
      ],
      "metadata": {
        "id": "60bOM4Kj1vDk"
      },
      "execution_count": 23,
      "outputs": []
    },
    {
      "cell_type": "markdown",
      "source": [
        "# Compare Similarity"
      ],
      "metadata": {
        "id": "jINWIQnf1yUD"
      }
    },
    {
      "cell_type": "code",
      "source": [
        "similarity_matrix = cosine_similarity(customer_product_matrix)\n",
        "similarity_df = pd.DataFrame(similarity_matrix, index=customer_product_matrix.index, columns=customer_product_matrix.index)"
      ],
      "metadata": {
        "id": "4OHj47IL1xNT"
      },
      "execution_count": 24,
      "outputs": []
    },
    {
      "cell_type": "code",
      "source": [
        "# Function to get top 3 similar customers\n",
        "def get_top_3_similar(customers_list):\n",
        "    lookalike_data = {}\n",
        "    for cust_id in customers_list:\n",
        "        similar_customers = similarity_df.loc[cust_id].sort_values(ascending=False)[1:4]\n",
        "        lookalike_data[cust_id] = list(zip(similar_customers.index, similar_customers.values))\n",
        "    return lookalike_data"
      ],
      "metadata": {
        "id": "Ooms6h101652"
      },
      "execution_count": 25,
      "outputs": []
    },
    {
      "cell_type": "markdown",
      "source": [
        "# Get lookalike recommendations for customers C0001 - C0020"
      ],
      "metadata": {
        "id": "uVrTRvuq2EBI"
      }
    },
    {
      "cell_type": "code",
      "source": [
        "lookalikes = get_top_3_similar(customers[\"CustomerID\"][:20])"
      ],
      "metadata": {
        "id": "YCd8jc8u2CcX"
      },
      "execution_count": 26,
      "outputs": []
    },
    {
      "cell_type": "markdown",
      "source": [
        "# Save to CSV\n"
      ],
      "metadata": {
        "id": "52bvliUL2QKb"
      }
    },
    {
      "cell_type": "code",
      "source": [
        "lookalike_df = pd.DataFrame.from_dict(lookalikes, orient=\"index\")\n",
        "lookalike_df.to_csv(\"Vruddhi_Shah_Lookalike.csv\")"
      ],
      "metadata": {
        "id": "3yyKZ0bW2M1J"
      },
      "execution_count": 28,
      "outputs": []
    }
  ]
}