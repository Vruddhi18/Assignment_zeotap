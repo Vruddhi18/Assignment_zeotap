# Task 1: Exploratory Data Analysis
import pandas as pd
import seaborn as sns
import matplotlib.pyplot as plt

# Load the datasets
customers = pd.read_csv("https://drive.google.com/uc?id=1bu_--mo79VdUG9oin4ybfFGRUSXAe-WE")
products = pd.read_csv("https://drive.google.com/uc?id=1IKuDizVapw-hyktwfpoAoaGtHtTNHfd0")
transactions = pd.read_csv("https://drive.google.com/uc?id=1saEqdbBB-vuk2hxoAf4TzDEsykdKlzbF")

# EDA on Customers
print("Customers Dataset Info:")
print(customers.info())

# Distribution of Regions
sns.countplot(data=customers, x="Region", palette="viridis")
plt.title("Customer Distribution by Region")
plt.show()

# EDA on Products
print("\nProducts Dataset Info:")
print(products.info())

# Merge datasets
transactions = transactions.merge(customers, on="CustomerID").merge(products, on="ProductID")

# Aggregate customer features
customer_features = transactions.groupby("CustomerID").agg({
    "TotalValue": "sum",
    "Quantity": "sum",
    "Price": "mean"
}).reset_index()

# Normalize data
scaler = StandardScaler()
normalized_features = scaler.fit_transform(customer_features.iloc[:, 1:])

# Compute similarity matrix
similarity_matrix = cosine_similarity(normalized_features)

# Recommend lookalikes
lookalike_results = {}
for i, customer in enumerate(customer_features['CustomerID']):
    similar_customers = sorted(
        [(customer_features['CustomerID'][j], similarity_matrix[i][j]) for j in range(len(similarity_matrix)) if i != j],
        key=lambda x: x[1],
        reverse=True
    )[:3]
    lookalike_results[customer] = similar_customers

# Save lookalike results
lookalike_df = pd.DataFrame({
    "CustomerID": list(lookalike_results.keys()),
    "Lookalikes": [str(lookalike_results[customer]) for customer in lookalike_results]
})
lookalike_df.to_csv("FirstName_LastName_Lookalike.csv", index=False)
